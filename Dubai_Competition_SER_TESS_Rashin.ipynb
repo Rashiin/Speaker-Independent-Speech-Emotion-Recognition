{
 "cells": [
  {
   "cell_type": "markdown",
   "id": "652afe54",
   "metadata": {},
   "source": [
    "# Speech Emotion Recognition on TESS Dataset\n",
    "#### Dubai Competition – Rashin Gholijani Farahani"
   ]
  },
  {
   "cell_type": "markdown",
   "id": "e76037c7",
   "metadata": {},
   "source": [
    "# Executive Summary\n",
    "\n",
    "This project presents a machine learning approach to speech emotion recognition, utilizing the TESS dataset. We extract meaningful audio features and train multiple models to classify seven emotional states. Our evaluation goes beyond traditional random splits by also including a speaker independent scenario training on one speaker and testing on another which better reflects real-world application. While the model achieves perfect accuracy under random splitting, its performance drops significantly in the speaker independent test. This contrast highlights the need for more diverse data and robust methods in emotion recognition, and forms the core scientific insight of our work.\n"
   ]
  },
  {
   "cell_type": "markdown",
   "id": "f0321029",
   "metadata": {},
   "source": [
    "## Introduction\n",
    "\n",
    "This project explores the use of machine learning for speech emotion recognition using the TESS dataset. The main goal is to develop a model that can recognize emotional categories from audio, and more importantly, to evaluate its ability to generalize to new speakers a critical factor for real-world applications.\n"
   ]
  },
  {
   "cell_type": "markdown",
   "id": "0fcb426f",
   "metadata": {},
   "source": [
    "## Dataset Description\n",
    "\n",
    "The TESS dataset contains recordings of seven emotions (angry, disgust, fear, happy, neutral, pleasant surprise, sad) spoken by two female actors (one young, one older). Features were extracted (MFCC and statistical features), and the data was cleaned for robust modeling.\n",
    "\n"
   ]
  },
  {
   "cell_type": "markdown",
   "id": "c9f4f616",
   "metadata": {},
   "source": [
    "## Methodology\n",
    "\n",
    "- **Feature Extraction:** Audio features (MFCCs and others) were extracted for each sample.\n",
    "- **Modeling:** Multiple machine learning models (e.g., Random Forest) were trained on the extracted features.\n",
    "- **Evaluation:** The models were evaluated in two settings:\n",
    "  - Random train/test split (mixed speakers)\n",
    "  - Speaker-independent split (train on one speaker, test on the other)\n"
   ]
  },
  {
   "cell_type": "code",
   "execution_count": 1,
   "id": "2bce0950",
   "metadata": {
    "scrolled": true
   },
   "outputs": [
    {
     "name": "stdout",
     "output_type": "stream",
     "text": [
      "Requirement already satisfied: kagglehub in /Users/rashinfarahani/opt/anaconda3/lib/python3.9/site-packages (0.3.4)\n",
      "Requirement already satisfied: librosa in /Users/rashinfarahani/opt/anaconda3/lib/python3.9/site-packages (0.11.0)\n",
      "Requirement already satisfied: soundfile in /Users/rashinfarahani/opt/anaconda3/lib/python3.9/site-packages (0.13.1)\n",
      "Requirement already satisfied: matplotlib in /Users/rashinfarahani/opt/anaconda3/lib/python3.9/site-packages (3.5.1)\n",
      "Requirement already satisfied: packaging in /Users/rashinfarahani/opt/anaconda3/lib/python3.9/site-packages (from kagglehub) (21.3)\n",
      "Requirement already satisfied: requests in /Users/rashinfarahani/opt/anaconda3/lib/python3.9/site-packages (from kagglehub) (2.32.3)\n",
      "Requirement already satisfied: tqdm in /Users/rashinfarahani/opt/anaconda3/lib/python3.9/site-packages (from kagglehub) (4.64.0)\n",
      "Requirement already satisfied: audioread>=2.1.9 in /Users/rashinfarahani/opt/anaconda3/lib/python3.9/site-packages (from librosa) (3.0.1)\n",
      "Requirement already satisfied: numba>=0.51.0 in /Users/rashinfarahani/opt/anaconda3/lib/python3.9/site-packages (from librosa) (0.60.0)\n",
      "Requirement already satisfied: numpy>=1.22.3 in /Users/rashinfarahani/opt/anaconda3/lib/python3.9/site-packages (from librosa) (1.26.4)\n",
      "Requirement already satisfied: scipy>=1.6.0 in /Users/rashinfarahani/opt/anaconda3/lib/python3.9/site-packages (from librosa) (1.13.1)\n",
      "Requirement already satisfied: scikit-learn>=1.1.0 in /Users/rashinfarahani/opt/anaconda3/lib/python3.9/site-packages (from librosa) (1.6.1)\n",
      "Requirement already satisfied: joblib>=1.0 in /Users/rashinfarahani/opt/anaconda3/lib/python3.9/site-packages (from librosa) (1.4.2)\n",
      "Requirement already satisfied: decorator>=4.3.0 in /Users/rashinfarahani/opt/anaconda3/lib/python3.9/site-packages (from librosa) (5.1.1)\n",
      "Requirement already satisfied: pooch>=1.1 in /Users/rashinfarahani/opt/anaconda3/lib/python3.9/site-packages (from librosa) (1.8.2)\n",
      "Requirement already satisfied: soxr>=0.3.2 in /Users/rashinfarahani/opt/anaconda3/lib/python3.9/site-packages (from librosa) (0.5.0.post1)\n",
      "Requirement already satisfied: typing_extensions>=4.1.1 in /Users/rashinfarahani/opt/anaconda3/lib/python3.9/site-packages (from librosa) (4.13.2)\n",
      "Requirement already satisfied: lazy_loader>=0.1 in /Users/rashinfarahani/opt/anaconda3/lib/python3.9/site-packages (from librosa) (0.4)\n",
      "Requirement already satisfied: msgpack>=1.0 in /Users/rashinfarahani/opt/anaconda3/lib/python3.9/site-packages (from librosa) (1.0.2)\n",
      "Requirement already satisfied: cffi>=1.0 in /Users/rashinfarahani/opt/anaconda3/lib/python3.9/site-packages (from soundfile) (1.15.0)\n",
      "Requirement already satisfied: cycler>=0.10 in /Users/rashinfarahani/opt/anaconda3/lib/python3.9/site-packages (from matplotlib) (0.11.0)\n",
      "Requirement already satisfied: fonttools>=4.22.0 in /Users/rashinfarahani/opt/anaconda3/lib/python3.9/site-packages (from matplotlib) (4.25.0)\n",
      "Requirement already satisfied: kiwisolver>=1.0.1 in /Users/rashinfarahani/opt/anaconda3/lib/python3.9/site-packages (from matplotlib) (1.3.2)\n",
      "Requirement already satisfied: pillow>=6.2.0 in /Users/rashinfarahani/opt/anaconda3/lib/python3.9/site-packages (from matplotlib) (11.0.0)\n",
      "Requirement already satisfied: pyparsing>=2.2.1 in /Users/rashinfarahani/opt/anaconda3/lib/python3.9/site-packages (from matplotlib) (3.0.4)\n",
      "Requirement already satisfied: python-dateutil>=2.7 in /Users/rashinfarahani/opt/anaconda3/lib/python3.9/site-packages (from matplotlib) (2.9.0.post0)\n",
      "Requirement already satisfied: pycparser in /Users/rashinfarahani/opt/anaconda3/lib/python3.9/site-packages (from cffi>=1.0->soundfile) (2.21)\n",
      "Requirement already satisfied: llvmlite<0.44,>=0.43.0dev0 in /Users/rashinfarahani/opt/anaconda3/lib/python3.9/site-packages (from numba>=0.51.0->librosa) (0.43.0)\n",
      "Requirement already satisfied: platformdirs>=2.5.0 in /Users/rashinfarahani/opt/anaconda3/lib/python3.9/site-packages (from pooch>=1.1->librosa) (4.3.6)\n",
      "Requirement already satisfied: six>=1.5 in /Users/rashinfarahani/opt/anaconda3/lib/python3.9/site-packages (from python-dateutil>=2.7->matplotlib) (1.17.0)\n",
      "Requirement already satisfied: charset-normalizer<4,>=2 in /Users/rashinfarahani/opt/anaconda3/lib/python3.9/site-packages (from requests->kagglehub) (2.0.4)\n",
      "Requirement already satisfied: idna<4,>=2.5 in /Users/rashinfarahani/opt/anaconda3/lib/python3.9/site-packages (from requests->kagglehub) (3.3)\n",
      "Requirement already satisfied: urllib3<3,>=1.21.1 in /Users/rashinfarahani/opt/anaconda3/lib/python3.9/site-packages (from requests->kagglehub) (1.26.16)\n",
      "Requirement already satisfied: certifi>=2017.4.17 in /Users/rashinfarahani/opt/anaconda3/lib/python3.9/site-packages (from requests->kagglehub) (2025.4.26)\n",
      "Requirement already satisfied: threadpoolctl>=3.1.0 in /Users/rashinfarahani/opt/anaconda3/lib/python3.9/site-packages (from scikit-learn>=1.1.0->librosa) (3.5.0)\n",
      "\n",
      "\u001b[1m[\u001b[0m\u001b[34;49mnotice\u001b[0m\u001b[1;39;49m]\u001b[0m\u001b[39;49m A new release of pip is available: \u001b[0m\u001b[31;49m25.0.1\u001b[0m\u001b[39;49m -> \u001b[0m\u001b[32;49m25.1.1\u001b[0m\n",
      "\u001b[1m[\u001b[0m\u001b[34;49mnotice\u001b[0m\u001b[1;39;49m]\u001b[0m\u001b[39;49m To update, run: \u001b[0m\u001b[32;49mpip install --upgrade pip\u001b[0m\n"
     ]
    }
   ],
   "source": [
    "!pip install kagglehub librosa soundfile matplotlib\n"
   ]
  },
  {
   "cell_type": "code",
   "execution_count": 3,
   "id": "ccc96f57",
   "metadata": {},
   "outputs": [
    {
     "name": "stdout",
     "output_type": "stream",
     "text": [
      "Warning: Looks like you're using an outdated `kagglehub` version, please consider updating (latest version: 0.3.12)\n",
      "Downloading from https://www.kaggle.com/api/v1/datasets/download/ejlok1/toronto-emotional-speech-set-tess?dataset_version_number=1...\n"
     ]
    },
    {
     "name": "stderr",
     "output_type": "stream",
     "text": [
      "100%|█████████████████████████████████████████| 428M/428M [13:07<00:00, 570kB/s]"
     ]
    },
    {
     "name": "stdout",
     "output_type": "stream",
     "text": [
      "Extracting files...\n"
     ]
    },
    {
     "name": "stderr",
     "output_type": "stream",
     "text": [
      "\n"
     ]
    },
    {
     "name": "stdout",
     "output_type": "stream",
     "text": [
      "Path to dataset files: /Users/rashinfarahani/.cache/kagglehub/datasets/ejlok1/toronto-emotional-speech-set-tess/versions/1\n"
     ]
    }
   ],
   "source": [
    "import kagglehub\n",
    "\n",
    "path = kagglehub.dataset_download(\"ejlok1/toronto-emotional-speech-set-tess\")\n",
    "\n",
    "print(\"Path to dataset files:\", path)"
   ]
  },
  {
   "cell_type": "code",
   "execution_count": 7,
   "id": "5a1ada13",
   "metadata": {},
   "outputs": [
    {
     "name": "stderr",
     "output_type": "stream",
     "text": [
      "/Users/rashinfarahani/opt/anaconda3/lib/python3.9/site-packages/pandas/core/arrays/masked.py:60: UserWarning: Pandas requires version '1.3.6' or newer of 'bottleneck' (version '1.3.4' currently installed).\n",
      "  from pandas.core import (\n"
     ]
    }
   ],
   "source": [
    "import os\n",
    "import librosa\n",
    "import pandas as pd\n",
    "import numpy as np\n",
    "import matplotlib.pyplot as plt"
   ]
  },
  {
   "cell_type": "code",
   "execution_count": 8,
   "id": "70876efe",
   "metadata": {},
   "outputs": [],
   "source": [
    "dataset_path = '/Users/rashinfarahani/.cache/kagglehub/datasets/ejlok1/toronto-emotional-speech-set-tess/versions/1'"
   ]
  },
  {
   "cell_type": "code",
   "execution_count": 9,
   "id": "2c55bc6d",
   "metadata": {},
   "outputs": [
    {
     "name": "stdout",
     "output_type": "stream",
     "text": [
      "/Users/rashinfarahani/.cache/kagglehub/datasets/ejlok1/toronto-emotional-speech-set-tess/versions/1/TESS Toronto emotional speech set data/YAF_disgust/YAF_date_disgust.wav\n",
      "/Users/rashinfarahani/.cache/kagglehub/datasets/ejlok1/toronto-emotional-speech-set-tess/versions/1/TESS Toronto emotional speech set data/OAF_Pleasant_surprise/OAF_ripe_ps.wav\n",
      "/Users/rashinfarahani/.cache/kagglehub/datasets/ejlok1/toronto-emotional-speech-set-tess/versions/1/TESS Toronto emotional speech set data/OAF_happy/OAF_bought_happy.wav\n",
      "/Users/rashinfarahani/.cache/kagglehub/datasets/ejlok1/toronto-emotional-speech-set-tess/versions/1/TESS Toronto emotional speech set data/YAF_sad/YAF_dime_sad.wav\n",
      "/Users/rashinfarahani/.cache/kagglehub/datasets/ejlok1/toronto-emotional-speech-set-tess/versions/1/TESS Toronto emotional speech set data/TESS Toronto emotional speech set data/YAF_disgust/YAF_date_disgust.wav\n",
      "/Users/rashinfarahani/.cache/kagglehub/datasets/ejlok1/toronto-emotional-speech-set-tess/versions/1/TESS Toronto emotional speech set data/TESS Toronto emotional speech set data/OAF_Pleasant_surprise/OAF_ripe_ps.wav\n",
      "/Users/rashinfarahani/.cache/kagglehub/datasets/ejlok1/toronto-emotional-speech-set-tess/versions/1/TESS Toronto emotional speech set data/TESS Toronto emotional speech set data/OAF_happy/OAF_bought_happy.wav\n",
      "/Users/rashinfarahani/.cache/kagglehub/datasets/ejlok1/toronto-emotional-speech-set-tess/versions/1/TESS Toronto emotional speech set data/TESS Toronto emotional speech set data/YAF_sad/YAF_dime_sad.wav\n",
      "/Users/rashinfarahani/.cache/kagglehub/datasets/ejlok1/toronto-emotional-speech-set-tess/versions/1/TESS Toronto emotional speech set data/TESS Toronto emotional speech set data/YAF_happy/YAF_wire_happy.wav\n",
      "/Users/rashinfarahani/.cache/kagglehub/datasets/ejlok1/toronto-emotional-speech-set-tess/versions/1/TESS Toronto emotional speech set data/TESS Toronto emotional speech set data/YAF_neutral/YAF_hurl_neutral.wav\n",
      "/Users/rashinfarahani/.cache/kagglehub/datasets/ejlok1/toronto-emotional-speech-set-tess/versions/1/TESS Toronto emotional speech set data/TESS Toronto emotional speech set data/OAF_Fear/OAF_third_fear.wav\n",
      "/Users/rashinfarahani/.cache/kagglehub/datasets/ejlok1/toronto-emotional-speech-set-tess/versions/1/TESS Toronto emotional speech set data/TESS Toronto emotional speech set data/OAF_angry/OAF_king_angry.wav\n",
      "/Users/rashinfarahani/.cache/kagglehub/datasets/ejlok1/toronto-emotional-speech-set-tess/versions/1/TESS Toronto emotional speech set data/TESS Toronto emotional speech set data/YAF_pleasant_surprised/YAF_hit_ps.wav\n",
      "/Users/rashinfarahani/.cache/kagglehub/datasets/ejlok1/toronto-emotional-speech-set-tess/versions/1/TESS Toronto emotional speech set data/TESS Toronto emotional speech set data/YAF_fear/YAF_dead_fear.wav\n",
      "/Users/rashinfarahani/.cache/kagglehub/datasets/ejlok1/toronto-emotional-speech-set-tess/versions/1/TESS Toronto emotional speech set data/TESS Toronto emotional speech set data/OAF_neutral/OAF_fit_neutral.wav\n",
      "/Users/rashinfarahani/.cache/kagglehub/datasets/ejlok1/toronto-emotional-speech-set-tess/versions/1/TESS Toronto emotional speech set data/TESS Toronto emotional speech set data/OAF_disgust/OAF_fat_disgust.wav\n",
      "/Users/rashinfarahani/.cache/kagglehub/datasets/ejlok1/toronto-emotional-speech-set-tess/versions/1/TESS Toronto emotional speech set data/TESS Toronto emotional speech set data/YAF_angry/YAF_numb_angry.wav\n",
      "/Users/rashinfarahani/.cache/kagglehub/datasets/ejlok1/toronto-emotional-speech-set-tess/versions/1/TESS Toronto emotional speech set data/TESS Toronto emotional speech set data/OAF_Sad/OAF_gaze_sad.wav\n",
      "/Users/rashinfarahani/.cache/kagglehub/datasets/ejlok1/toronto-emotional-speech-set-tess/versions/1/TESS Toronto emotional speech set data/YAF_happy/YAF_wire_happy.wav\n",
      "/Users/rashinfarahani/.cache/kagglehub/datasets/ejlok1/toronto-emotional-speech-set-tess/versions/1/TESS Toronto emotional speech set data/YAF_neutral/YAF_hurl_neutral.wav\n",
      "/Users/rashinfarahani/.cache/kagglehub/datasets/ejlok1/toronto-emotional-speech-set-tess/versions/1/TESS Toronto emotional speech set data/OAF_Fear/OAF_third_fear.wav\n",
      "/Users/rashinfarahani/.cache/kagglehub/datasets/ejlok1/toronto-emotional-speech-set-tess/versions/1/TESS Toronto emotional speech set data/OAF_angry/OAF_king_angry.wav\n",
      "/Users/rashinfarahani/.cache/kagglehub/datasets/ejlok1/toronto-emotional-speech-set-tess/versions/1/TESS Toronto emotional speech set data/YAF_pleasant_surprised/YAF_hit_ps.wav\n",
      "/Users/rashinfarahani/.cache/kagglehub/datasets/ejlok1/toronto-emotional-speech-set-tess/versions/1/TESS Toronto emotional speech set data/YAF_fear/YAF_dead_fear.wav\n",
      "/Users/rashinfarahani/.cache/kagglehub/datasets/ejlok1/toronto-emotional-speech-set-tess/versions/1/TESS Toronto emotional speech set data/OAF_neutral/OAF_fit_neutral.wav\n",
      "/Users/rashinfarahani/.cache/kagglehub/datasets/ejlok1/toronto-emotional-speech-set-tess/versions/1/TESS Toronto emotional speech set data/OAF_disgust/OAF_fat_disgust.wav\n",
      "/Users/rashinfarahani/.cache/kagglehub/datasets/ejlok1/toronto-emotional-speech-set-tess/versions/1/TESS Toronto emotional speech set data/YAF_angry/YAF_numb_angry.wav\n",
      "/Users/rashinfarahani/.cache/kagglehub/datasets/ejlok1/toronto-emotional-speech-set-tess/versions/1/TESS Toronto emotional speech set data/OAF_Sad/OAF_gaze_sad.wav\n"
     ]
    }
   ],
   "source": [
    "for root, dirs, files in os.walk(dataset_path):\n",
    "    for file in files:\n",
    "        if file.endswith('.wav'):\n",
    "            print(os.path.join(root, file))\n",
    "            break  "
   ]
  },
  {
   "cell_type": "code",
   "execution_count": 79,
   "id": "ff924571",
   "metadata": {},
   "outputs": [],
   "source": [
    "import pandas as pd\n",
    "import numpy as np\n",
    "from sklearn.model_selection import train_test_split\n",
    "from sklearn.preprocessing import StandardScaler, LabelEncoder\n",
    "from sklearn.ensemble import RandomForestClassifier\n",
    "from sklearn.metrics import classification_report, confusion_matrix, accuracy_score\n",
    "import matplotlib.pyplot as plt\n",
    "import seaborn as sns\n"
   ]
  },
  {
   "cell_type": "code",
   "execution_count": 80,
   "id": "4962f258",
   "metadata": {},
   "outputs": [],
   "source": [
    "# Load and clean dataset\n",
    "df = pd.read_csv('features_tess_cleaned.csv')\n",
    "\n",
    "def clean_label(label):\n",
    "    label = label.lower()\n",
    "    if 'angry' in label:\n",
    "        return 'angry'\n",
    "    elif 'disgust' in label:\n",
    "        return 'disgust'\n",
    "    elif 'fear' in label:\n",
    "        return 'fear'\n",
    "    elif 'happy' in label:\n",
    "        return 'happy'\n",
    "    elif 'neutral' in label:\n",
    "        return 'neutral'\n",
    "    elif 'ps' in label or 'pleasant' in label:\n",
    "        return 'ps'\n",
    "    elif 'sad' in label:\n",
    "        return 'sad'\n",
    "    else:\n",
    "        return 'unknown'\n",
    "\n",
    "df['label'] = df['label'].apply(clean_label)\n",
    "df = df[df['label'] != 'unknown']\n",
    "df.to_csv('features_tess_final.csv', index=False)\n"
   ]
  },
  {
   "cell_type": "code",
   "execution_count": 81,
   "id": "5e1adc2d",
   "metadata": {},
   "outputs": [
    {
     "name": "stdout",
     "output_type": "stream",
     "text": [
      "Accuracy (Random Split): 1.0\n",
      "              precision    recall  f1-score   support\n",
      "\n",
      "       angry       1.00      1.00      1.00       800\n",
      "     disgust       1.00      1.00      1.00       800\n",
      "        fear       1.00      1.00      1.00       800\n",
      "       happy       1.00      1.00      1.00       800\n",
      "     neutral       1.00      1.00      1.00       800\n",
      "          ps       1.00      1.00      1.00       800\n",
      "         sad       1.00      1.00      1.00       800\n",
      "\n",
      "    accuracy                           1.00      5600\n",
      "   macro avg       1.00      1.00      1.00      5600\n",
      "weighted avg       1.00      1.00      1.00      5600\n",
      "\n"
     ]
    }
   ],
   "source": [
    "# Load dataset\n",
    "df = pd.read_csv('features_tess_final.csv')\n",
    "X = df.drop('label', axis=1)\n",
    "y = df['label']\n",
    "\n",
    "le = LabelEncoder()\n",
    "y_enc = le.fit_transform(y)\n",
    "scaler = StandardScaler()\n",
    "X_scaled = scaler.fit_transform(X)\n",
    "\n",
    "X_train, X_test, y_train, y_test = train_test_split(\n",
    "    X_scaled, y_enc, test_size=0.25, random_state=42, stratify=y_enc\n",
    ")\n",
    "clf = RandomForestClassifier(n_estimators=150, random_state=42, class_weight='balanced')\n",
    "clf.fit(X_train, y_train)\n",
    "y_pred = clf.predict(X_test)\n",
    "print(\"Accuracy (Random Split):\", accuracy_score(y_test, y_pred))\n",
    "print(classification_report(y_test, y_pred, target_names=le.classes_))\n"
   ]
  },
  {
   "cell_type": "code",
   "execution_count": 82,
   "id": "9b06499f",
   "metadata": {},
   "outputs": [
    {
     "name": "stdout",
     "output_type": "stream",
     "text": [
      "Speaker-Independent Accuracy: 0.1692857142857143\n",
      "              precision    recall  f1-score   support\n",
      "\n",
      "       angry       0.16      0.99      0.28       400\n",
      "     disgust       0.02      0.01      0.01       400\n",
      "        fear       0.54      0.07      0.13       400\n",
      "       happy       0.00      0.00      0.00       400\n",
      "     neutral       0.10      0.04      0.06       400\n",
      "          ps       0.00      0.00      0.00       400\n",
      "         sad       0.67      0.07      0.13       400\n",
      "\n",
      "    accuracy                           0.17      2800\n",
      "   macro avg       0.21      0.17      0.09      2800\n",
      "weighted avg       0.21      0.17      0.09      2800\n",
      "\n"
     ]
    }
   ],
   "source": [
    "df = pd.read_csv('features_tess_cleaned.csv')\n",
    "\n",
    "def get_speaker(label):\n",
    "    label = label.lower()\n",
    "    if label.startswith('oaf'):\n",
    "        return 'oaf'\n",
    "    elif label.startswith('yaf'):\n",
    "        return 'yaf'\n",
    "    else:\n",
    "        return 'unknown'\n",
    "df['speaker'] = df['label'].apply(get_speaker)\n",
    "df['emotion'] = df['label'].apply(clean_label)\n",
    "df = df[(df['speaker'] != 'unknown') & (df['emotion'] != 'unknown')]\n",
    "train_df = df[df['speaker'] == 'oaf']\n",
    "test_df = df[df['speaker'] == 'yaf']\n",
    "X_train = train_df.drop(columns=['label', 'speaker', 'emotion'])\n",
    "y_train = train_df['emotion']\n",
    "X_test = test_df.drop(columns=['label', 'speaker', 'emotion'])\n",
    "y_test = test_df['emotion']\n",
    "scaler = StandardScaler()\n",
    "X_train_scaled = scaler.fit_transform(X_train)\n",
    "X_test_scaled = scaler.transform(X_test)\n",
    "le = LabelEncoder()\n",
    "y_train_enc = le.fit_transform(y_train)\n",
    "y_test_enc = le.transform(y_test)\n",
    "clf = RandomForestClassifier(n_estimators=150, random_state=42, class_weight='balanced')\n",
    "clf.fit(X_train_scaled, y_train_enc)\n",
    "y_pred = clf.predict(X_test_scaled)\n",
    "print(\"Speaker-Independent Accuracy:\", accuracy_score(y_test_enc, y_pred))\n",
    "print(classification_report(y_test_enc, y_pred, target_names=le.classes_))\n"
   ]
  },
  {
   "cell_type": "code",
   "execution_count": 83,
   "id": "18043eda",
   "metadata": {},
   "outputs": [
    {
     "data": {
      "image/png": "[encoded data removed]",
      "text/plain": [
       "<Figure size 576x432 with 2 Axes>"
      ]
     },
     "metadata": {
      "needs_background": "light"
     },
     "output_type": "display_data"
    }
   ],
   "source": [
    "\n",
    "\n",
    "cm = confusion_matrix(y_test_enc, y_pred)\n",
    "plt.figure(figsize=(8,6))\n",
    "sns.heatmap(cm, annot=True, fmt=\"d\", cmap=\"Blues\", xticklabels=le.classes_, yticklabels=le.classes_)\n",
    "plt.xlabel(\"Predicted\")\n",
    "plt.ylabel(\"True\")\n",
    "plt.title(\"Confusion Matrix (Speaker-Independent)\")\n",
    "plt.show()\n"
   ]
  },
  {
   "cell_type": "code",
   "execution_count": 84,
   "id": "0e35a22f",
   "metadata": {},
   "outputs": [
    {
     "data": {
      "image/png": "[encoded data removed]",
      "text/plain": [
       "<Figure size 576x288 with 1 Axes>"
      ]
     },
     "metadata": {
      "needs_background": "light"
     },
     "output_type": "display_data"
    }
   ],
   "source": [
    "report = classification_report(y_test_enc, y_pred, target_names=le.classes_, output_dict=True)\n",
    "scores = [report[c]['f1-score'] for c in le.classes_]\n",
    "\n",
    "plt.figure(figsize=(8, 4))\n",
    "plt.bar(le.classes_, scores, color='teal')\n",
    "plt.ylabel('F1-score')\n",
    "plt.title('F1-score for each class (Speaker-Independent)')\n",
    "plt.ylim(0, 1)\n",
    "plt.show()"
   ]
  },
  {
   "cell_type": "code",
   "execution_count": 85,
   "id": "d05a946a",
   "metadata": {},
   "outputs": [
    {
     "name": "stdout",
     "output_type": "stream",
     "text": [
      "Accuracy (Random Split): 1.00\n",
      "Accuracy (Speaker-Independent): 0.17\n"
     ]
    }
   ],
   "source": [
    "print(\"Accuracy (Random Split): 1.00\")\n",
    "print(\"Accuracy (Speaker-Independent): 0.17\")\n"
   ]
  },
  {
   "cell_type": "markdown",
   "id": "0b6c8a86",
   "metadata": {},
   "source": [
    "## Evaluation and Results\n",
    "\n",
    "- **Random split:** Achieved 100% accuracy, indicating possible overfitting to speaker/idiosyncrasies.\n",
    "- **Speaker-independent split:** Accuracy dropped to 17%, highlighting the model's limited ability to generalize.\n",
    "- Detailed confusion matrix and F1-score analysis are provided below.\n"
   ]
  },
  {
   "cell_type": "markdown",
   "id": "8f1f239f",
   "metadata": {},
   "source": [
    "## Discussion   \n",
    "\n",
    "The contrast between random split and speaker-independent evaluation underscores the importance of robust testing in emotion recognition. For real-world success, larger and more diverse datasets, as well as advanced modeling and augmentation strategies, are recommended.\n",
    "\n",
    "\n",
    "\n",
    "\n"
   ]
  },
  {
   "cell_type": "markdown",
   "id": "99e2d33e",
   "metadata": {},
   "source": [
    "# Limitations and Future Work\n",
    "\n",
    "- **Speaker Diversity:** The TESS dataset contains only two speakers, which severely limits the model's ability to generalize to new voices.\n",
    "- **Controlled Recording Conditions:** The dataset was recorded in clean, controlled environments. Real-world performance should be evaluated with more variable and noisy audio.\n",
    "- **Advanced Modeling:** Exploring deep learning techniques and speaker-invariant features could boost robustness.\n",
    "- **Data Augmentation:** Applying audio augmentations (noise, pitch, tempo changes) may improve generalization to new scenarios.\n",
    "- **Cross-dataset Evaluation:** Testing on additional datasets like CREMA-D or RAVDESS will strengthen the scientific impact and validate real-world applicability.\n",
    "\n",
    "By addressing these limitations, the project can evolve from a proof-of-concept to a competitive, real-world-ready emotion recognition solution.\n",
    "\n"
   ]
  },
  {
   "cell_type": "code",
   "execution_count": null,
   "id": "25b7adbe",
   "metadata": {},
   "outputs": [],
   "source": []
  }
 ],
 "metadata": {
  "kernelspec": {
   "display_name": "Python 3 (ipykernel)",
   "language": "python",
   "name": "python3"
  },
  "language_info": {
   "codemirror_mode": {
    "name": "ipython",
    "version": 3
   },
   "file_extension": ".py",
   "mimetype": "text/x-python",
   "name": "python",
   "nbconvert_exporter": "python",
   "pygments_lexer": "ipython3",
   "version": "3.9.12"
  }
 },
 "nbformat": 4,
 "nbformat_minor": 5
}
